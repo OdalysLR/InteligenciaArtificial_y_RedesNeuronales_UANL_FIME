{
  "nbformat": 4,
  "nbformat_minor": 0,
  "metadata": {
    "colab": {
      "name": "IA_Ejercicio1_AngelaLozano_1930139.ipynb",
      "provenance": [],
      "authorship_tag": "ABX9TyMozU88Ec2iUCGSPcn9Iowc",
      "include_colab_link": true
    },
    "kernelspec": {
      "name": "python3",
      "display_name": "Python 3"
    },
    "language_info": {
      "name": "python"
    }
  },
  "cells": [
    {
      "cell_type": "markdown",
      "metadata": {
        "id": "view-in-github",
        "colab_type": "text"
      },
      "source": [
        "<a href=\"https://colab.research.google.com/github/OdalysLR/InteligenciaArtificial_y_RedesNeuronales_UANL_FIME/blob/Las-actividades-van-aqui/IA_Ejercicio1_AngelaLozano_1930139.ipynb\" target=\"_parent\"><img src=\"https://colab.research.google.com/assets/colab-badge.svg\" alt=\"Open In Colab\"/></a>"
      ]
    },
    {
      "cell_type": "code",
      "execution_count": null,
      "metadata": {
        "id": "vS0vGdikUipg"
      },
      "outputs": [],
      "source": [
        "#Actividad 2: Ejercicios en Python. Ángela Odalys Lozano Rodríguez 1930139"
      ]
    },
    {
      "cell_type": "code",
      "source": [
        "#Escribe un programa que le pida al usuario por su nombre y que lo salude \n",
        "#con su nombre, excepto si se llama “Ana”, “Juan”, y “Pedro”.\n",
        "n = input(\"Bienvenido, ¿Cuál es su nombre?\")\n",
        "if n == (\"Ana\" or \"Juan\" or \"Pedro\"):\n",
        "  print(\"Hola.\")\n",
        "else:\n",
        "    print(\"Hola \" + n)"
      ],
      "metadata": {
        "colab": {
          "base_uri": "https://localhost:8080/"
        },
        "id": "7xjGOG8GUsUy",
        "outputId": "8b50b826-fb5d-47aa-eaae-f09f34a0bdce"
      },
      "execution_count": null,
      "outputs": [
        {
          "output_type": "stream",
          "name": "stdout",
          "text": [
            "Bienvenido, ¿Cuál es su nombre?Odalys\n",
            "Hola Odalys\n"
          ]
        }
      ]
    }
  ]
}