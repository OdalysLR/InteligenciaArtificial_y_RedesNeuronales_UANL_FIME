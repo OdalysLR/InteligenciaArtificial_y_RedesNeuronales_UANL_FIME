{
  "nbformat": 4,
  "nbformat_minor": 0,
  "metadata": {
    "colab": {
      "name": "IA_Ejercicio3_AngelaLozano_1930139.ipynb",
      "provenance": [],
      "authorship_tag": "ABX9TyOh+LxNi4n57RyMU3DT5aNt",
      "include_colab_link": true
    },
    "kernelspec": {
      "name": "python3",
      "display_name": "Python 3"
    },
    "language_info": {
      "name": "python"
    }
  },
  "cells": [
    {
      "cell_type": "markdown",
      "metadata": {
        "id": "view-in-github",
        "colab_type": "text"
      },
      "source": [
        "<a href=\"https://colab.research.google.com/github/OdalysLR/InteligenciaArtificial_y_RedesNeuronales_UANL_FIME/blob/Las-actividades-van-aqui/IA_Ejercicio3_AngelaLozano_1930139.ipynb\" target=\"_parent\"><img src=\"https://colab.research.google.com/assets/colab-badge.svg\" alt=\"Open In Colab\"/></a>"
      ]
    },
    {
      "cell_type": "code",
      "execution_count": null,
      "metadata": {
        "id": "Hxi_-3hMoSNe"
      },
      "outputs": [],
      "source": [
        "#Actividad 2: Ejercicios en Python. Ángela Odalys Lozano Rodríguez 1930139"
      ]
    },
    {
      "cell_type": "code",
      "source": [
        "#Escribe una función que toma una lista de strings y los imprima línea \n",
        "#por línea en un marco rectangular.\n",
        "n=[\"perro\",\"gato\",\"conejo\",\"pingüino\",\"alpaca\"]\n",
        "for lista in n: #con \"in\" se le asigna un lugar distinto a cada elemento de n\n",
        "  print(lista)"
      ],
      "metadata": {
        "colab": {
          "base_uri": "https://localhost:8080/"
        },
        "id": "MnDG8cEFpF_m",
        "outputId": "35818827-3321-4f48-8b9c-8c302f9561bd"
      },
      "execution_count": null,
      "outputs": [
        {
          "output_type": "stream",
          "name": "stdout",
          "text": [
            "perro\n",
            "gato\n",
            "conejo\n",
            "pingüino\n",
            "alpaca\n"
          ]
        }
      ]
    }
  ]
}