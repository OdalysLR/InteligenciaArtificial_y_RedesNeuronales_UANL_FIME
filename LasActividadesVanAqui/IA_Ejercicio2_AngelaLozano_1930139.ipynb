{
  "nbformat": 4,
  "nbformat_minor": 0,
  "metadata": {
    "colab": {
      "name": "IA_Ejercicio2_AngelaLozano_1930139.ipynb",
      "provenance": []
    },
    "kernelspec": {
      "name": "python3",
      "display_name": "Python 3"
    },
    "language_info": {
      "name": "python"
    }
  },
  "cells": [
    {
      "cell_type": "code",
      "execution_count": null,
      "metadata": {
        "id": "r97lcXqlnoQ7"
      },
      "outputs": [],
      "source": [
        "#Actividad 2: Ejercicios en Python. Ángela Odalys Lozano Rodríguez 1930139"
      ]
    },
    {
      "cell_type": "code",
      "source": [
        "#Escribe una función que regrese el último elemento de una lista y que \n",
        "#revierta el orden de la lista e imprima la lista revertida.\n",
        "n=[1,2,3,4,5]\n",
        "def lista_inv():\n",
        "  print(n[::-1]) #Se usa [::-1] para invertir la lista\n",
        "\n",
        "print(\"Lista: \")\n",
        "print(n)\n",
        "print(\"Ultimo elemento de la lista: \")\n",
        "print(n[-1]) #Se usa [-1] para recuperar el ultimo elemento de la lista\n",
        "print(\"Lista invertida:\")\n",
        "lista_inv()\n"
      ],
      "metadata": {
        "colab": {
          "base_uri": "https://localhost:8080/"
        },
        "id": "Xcppj7Whnokz",
        "outputId": "cc3af47e-8809-4f69-e437-971487ee40a5"
      },
      "execution_count": 1,
      "outputs": [
        {
          "output_type": "stream",
          "name": "stdout",
          "text": [
            "Lista: \n",
            "[1, 2, 3, 4, 5]\n",
            "Ultimo elemento de la lista: \n",
            "5\n",
            "Lista invertida:\n",
            "[5, 4, 3, 2, 1]\n"
          ]
        }
      ]
    }
  ]
}