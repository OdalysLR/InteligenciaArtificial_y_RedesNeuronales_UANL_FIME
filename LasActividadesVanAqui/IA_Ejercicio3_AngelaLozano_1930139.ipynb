{
  "nbformat": 4,
  "nbformat_minor": 0,
  "metadata": {
    "colab": {
      "name": "IA_Ejercicio3_AngelaLozano_1930139.ipynb",
      "provenance": []
    },
    "kernelspec": {
      "name": "python3",
      "display_name": "Python 3"
    },
    "language_info": {
      "name": "python"
    }
  },
  "cells": [
    {
      "cell_type": "code",
      "execution_count": null,
      "metadata": {
        "id": "Hxi_-3hMoSNe"
      },
      "outputs": [],
      "source": [
        "#Actividad 2: Ejercicios en Python. Ángela Odalys Lozano Rodríguez 1930139"
      ]
    },
    {
      "cell_type": "code",
      "source": [
        "#Escribe una función que toma una lista de strings y los imprima línea \n",
        "#por línea en un marco rectangular.\n",
        "n=[\"perro\",\"gato\",\"conejo\",\"pingüino\",\"alpaca\"]\n",
        "def lista():\n",
        "  for lista in n: #con \"in\" se le asigna un lugar distinto a cada elemento de n\n",
        "    print(lista)\n",
        "lista()"
      ],
      "metadata": {
        "colab": {
          "base_uri": "https://localhost:8080/"
        },
        "id": "MnDG8cEFpF_m",
        "outputId": "544ff082-c0db-45cf-8e03-5e65f86b3403"
      },
      "execution_count": 2,
      "outputs": [
        {
          "output_type": "stream",
          "name": "stdout",
          "text": [
            "perro\n",
            "gato\n",
            "conejo\n",
            "pingüino\n",
            "alpaca\n"
          ]
        }
      ]
    }
  ]
}